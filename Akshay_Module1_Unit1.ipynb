{
 "cells": [
  {
   "cell_type": "code",
   "execution_count": null,
   "id": "84101663",
   "metadata": {},
   "outputs": [],
   "source": [
    "A = 1\n",
    "B = 1\n",
    "C = 1\n",
    "A + B + C"
   ]
  },
  {
   "cell_type": "code",
   "execution_count": null,
   "id": "1bb64816",
   "metadata": {},
   "outputs": [],
   "source": [
    "1A = 1"
   ]
  },
  {
   "cell_type": "code",
   "execution_count": null,
   "id": "6c394725",
   "metadata": {},
   "outputs": [],
   "source": [
    "a 1 = 1"
   ]
  },
  {
   "cell_type": "code",
   "execution_count": null,
   "id": "37fb8e70",
   "metadata": {},
   "outputs": [],
   "source": [
    "a_1 = 1"
   ]
  },
  {
   "cell_type": "code",
   "execution_count": null,
   "id": "0c7e8c40",
   "metadata": {},
   "outputs": [],
   "source": [
    "_a1 = 1                            "
   ]
  },
  {
   "cell_type": "code",
   "execution_count": null,
   "id": "887a9734",
   "metadata": {},
   "outputs": [],
   "source": [
    "__a = 1"
   ]
  },
  {
   "cell_type": "code",
   "execution_count": null,
   "id": "36b8e62f",
   "metadata": {},
   "outputs": [],
   "source": [
    "a@gmail.com = 1"
   ]
  },
  {
   "cell_type": "code",
   "execution_count": null,
   "id": "ee74460a",
   "metadata": {},
   "outputs": [],
   "source": [
    "if = 2"
   ]
  },
  {
   "cell_type": "code",
   "execution_count": null,
   "id": "9567cd2e",
   "metadata": {},
   "outputs": [],
   "source": [
    "count = 100\n",
    "kilometres = 1000.0\n",
    "name = 'Rahul'"
   ]
  },
  {
   "cell_type": "code",
   "execution_count": null,
   "id": "7399713d",
   "metadata": {},
   "outputs": [],
   "source": [
    "print(count,kilometres,name)"
   ]
  },
  {
   "cell_type": "code",
   "execution_count": null,
   "id": "be7a1e00",
   "metadata": {},
   "outputs": [],
   "source": [
    "a,b,c = 1,2,\"Diwakar\"\n",
    "print(a,b,c)"
   ]
  },
  {
   "cell_type": "code",
   "execution_count": null,
   "id": "887a820b",
   "metadata": {},
   "outputs": [],
   "source": [
    "a=b=c=1\n",
    "print(a,b,c)"
   ]
  },
  {
   "cell_type": "code",
   "execution_count": null,
   "id": "ee40d90a",
   "metadata": {},
   "outputs": [],
   "source": [
    "print(id(a))\n",
    "print(id(b))\n",
    "print(id(c))"
   ]
  },
  {
   "cell_type": "code",
   "execution_count": null,
   "id": "b40eacb8",
   "metadata": {},
   "outputs": [],
   "source": [
    "a=1\n",
    "b=1\n",
    "c=1\n",
    "print(id(a))\n",
    "print(id(b))\n",
    "print(id(c))"
   ]
  },
  {
   "cell_type": "code",
   "execution_count": null,
   "id": "c146fe6d",
   "metadata": {},
   "outputs": [],
   "source": [
    "type(a)"
   ]
  },
  {
   "cell_type": "code",
   "execution_count": null,
   "id": "f0ba07cf",
   "metadata": {},
   "outputs": [],
   "source": [
    "del a"
   ]
  },
  {
   "cell_type": "code",
   "execution_count": null,
   "id": "f1ec9c08",
   "metadata": {},
   "outputs": [],
   "source": [
    "a"
   ]
  },
  {
   "cell_type": "code",
   "execution_count": null,
   "id": "8355dcf0",
   "metadata": {},
   "outputs": [],
   "source": [
    "id(a)"
   ]
  },
  {
   "cell_type": "code",
   "execution_count": null,
   "id": "fd1b9673",
   "metadata": {},
   "outputs": [],
   "source": [
    "b=3.13j"
   ]
  },
  {
   "cell_type": "code",
   "execution_count": null,
   "id": "e3f1aa27",
   "metadata": {},
   "outputs": [],
   "source": [
    "type(b)"
   ]
  },
  {
   "cell_type": "code",
   "execution_count": null,
   "id": "fca75342",
   "metadata": {},
   "outputs": [],
   "source": [
    "str1=\"Python is a programming language\"\n",
    "print(str1)"
   ]
  },
  {
   "cell_type": "code",
   "execution_count": null,
   "id": "a6bbde46",
   "metadata": {},
   "outputs": [],
   "source": [
    "a=1\n",
    "a*2"
   ]
  },
  {
   "cell_type": "code",
   "execution_count": null,
   "id": "46010ae5",
   "metadata": {},
   "outputs": [],
   "source": [
    "str1=\"Python is a programming language\"\n",
    "print(str1*2)"
   ]
  },
  {
   "cell_type": "code",
   "execution_count": null,
   "id": "169e36f4",
   "metadata": {},
   "outputs": [],
   "source": [
    "str2=\"Hi\"\n",
    "print(str1+str2)"
   ]
  },
  {
   "cell_type": "code",
   "execution_count": null,
   "id": "fa2cb321",
   "metadata": {},
   "outputs": [],
   "source": [
    "a=1\n",
    "print(id(a))"
   ]
  },
  {
   "cell_type": "code",
   "execution_count": null,
   "id": "f5f2f136",
   "metadata": {},
   "outputs": [],
   "source": [
    "a=2\n",
    "id(a)"
   ]
  },
  {
   "cell_type": "markdown",
   "id": "09523550",
   "metadata": {},
   "source": [
    "## String"
   ]
  },
  {
   "cell_type": "code",
   "execution_count": null,
   "id": "714a2d5a",
   "metadata": {},
   "outputs": [],
   "source": [
    "str1=\"Python is a programming language\"\n",
    "print(str1[0])"
   ]
  },
  {
   "cell_type": "code",
   "execution_count": null,
   "id": "e0899d75",
   "metadata": {},
   "outputs": [],
   "source": [
    "print(str1[2:10])"
   ]
  },
  {
   "cell_type": "code",
   "execution_count": null,
   "id": "e79beb2b",
   "metadata": {},
   "outputs": [],
   "source": [
    "print(str1[6:18])"
   ]
  },
  {
   "cell_type": "code",
   "execution_count": null,
   "id": "1e3134ee",
   "metadata": {},
   "outputs": [],
   "source": [
    "print(str1[12:23])"
   ]
  },
  {
   "cell_type": "code",
   "execution_count": null,
   "id": "a1b229c1",
   "metadata": {},
   "outputs": [],
   "source": [
    "str1.split()"
   ]
  },
  {
   "cell_type": "code",
   "execution_count": null,
   "id": "927cf514",
   "metadata": {},
   "outputs": [],
   "source": [
    "str = \"{} {} {}\".format(\"I\",\"am\",\"good\")\n",
    "str"
   ]
  },
  {
   "cell_type": "code",
   "execution_count": null,
   "id": "305644a7",
   "metadata": {},
   "outputs": [],
   "source": [
    "str = \"{1} {0} {2}\".format(\"I\",\"am\",\"good\")\n",
    "str"
   ]
  },
  {
   "cell_type": "code",
   "execution_count": null,
   "id": "25bcf388",
   "metadata": {},
   "outputs": [],
   "source": [
    "String1 = \"{a} {e} {c}\".format(a='Python',e='Programming',c='Language')\n",
    "print(String1)"
   ]
  },
  {
   "cell_type": "code",
   "execution_count": null,
   "id": "50cb4992",
   "metadata": {},
   "outputs": [],
   "source": [
    "str1.capitalize()"
   ]
  },
  {
   "cell_type": "code",
   "execution_count": null,
   "id": "e2fabe5a",
   "metadata": {},
   "outputs": [],
   "source": [
    "str1.upper()"
   ]
  },
  {
   "cell_type": "markdown",
   "id": "e42f2d69",
   "metadata": {},
   "source": [
    "## List"
   ]
  },
  {
   "cell_type": "code",
   "execution_count": null,
   "id": "730aa81b",
   "metadata": {},
   "outputs": [],
   "source": [
    "L = [1,2,3,'abes',12.5]\n",
    "L"
   ]
  },
  {
   "cell_type": "code",
   "execution_count": null,
   "id": "29aa5dca",
   "metadata": {},
   "outputs": [],
   "source": [
    "type(L)"
   ]
  },
  {
   "cell_type": "code",
   "execution_count": null,
   "id": "7cfaeb32",
   "metadata": {},
   "outputs": [],
   "source": [
    "L[0:3]"
   ]
  },
  {
   "cell_type": "code",
   "execution_count": null,
   "id": "05730d88",
   "metadata": {},
   "outputs": [],
   "source": [
    "L[3][2]"
   ]
  },
  {
   "cell_type": "code",
   "execution_count": null,
   "id": "992425a0",
   "metadata": {},
   "outputs": [],
   "source": [
    "ks=[1,2,3]\n",
    "ks+ks"
   ]
  },
  {
   "cell_type": "code",
   "execution_count": null,
   "id": "75a23db0",
   "metadata": {},
   "outputs": [],
   "source": [
    "ls=[7,8,9]\n",
    "ks+ls"
   ]
  },
  {
   "cell_type": "code",
   "execution_count": null,
   "id": "176eea0d",
   "metadata": {},
   "outputs": [],
   "source": [
    "ks*5"
   ]
  },
  {
   "cell_type": "code",
   "execution_count": null,
   "id": "b6b05cd1",
   "metadata": {},
   "outputs": [],
   "source": [
    "ks*ks"
   ]
  },
  {
   "cell_type": "code",
   "execution_count": null,
   "id": "e9fdd7da",
   "metadata": {
    "scrolled": true
   },
   "outputs": [],
   "source": [
    "L"
   ]
  },
  {
   "cell_type": "code",
   "execution_count": null,
   "id": "15ffd344",
   "metadata": {},
   "outputs": [],
   "source": [
    "id(L[0])"
   ]
  },
  {
   "cell_type": "code",
   "execution_count": null,
   "id": "e0f18053",
   "metadata": {},
   "outputs": [],
   "source": [
    "L[0] = 10\n",
    "L"
   ]
  },
  {
   "cell_type": "code",
   "execution_count": null,
   "id": "07028640",
   "metadata": {},
   "outputs": [],
   "source": [
    "id(L[0])"
   ]
  },
  {
   "cell_type": "code",
   "execution_count": null,
   "id": "2077ca19",
   "metadata": {},
   "outputs": [],
   "source": [
    "id(L)"
   ]
  },
  {
   "cell_type": "code",
   "execution_count": null,
   "id": "c74e1a59",
   "metadata": {},
   "outputs": [],
   "source": [
    "L2=\"Diwakar\"\n",
    "print(id(L2))"
   ]
  },
  {
   "cell_type": "code",
   "execution_count": null,
   "id": "20f990f1",
   "metadata": {},
   "outputs": [],
   "source": [
    "L2[0]=\"G\"\n",
    "L2 "
   ]
  },
  {
   "cell_type": "code",
   "execution_count": null,
   "id": "314365eb",
   "metadata": {},
   "outputs": [],
   "source": [
    "L2=\"G\"+L2[1:]\n",
    "L2"
   ]
  },
  {
   "cell_type": "code",
   "execution_count": null,
   "id": "f07ed7fb",
   "metadata": {},
   "outputs": [],
   "source": [
    "id(L2)"
   ]
  },
  {
   "cell_type": "markdown",
   "id": "fdbc0d39",
   "metadata": {},
   "source": [
    "## Input"
   ]
  },
  {
   "cell_type": "code",
   "execution_count": null,
   "id": "6acc9977",
   "metadata": {},
   "outputs": [],
   "source": [
    "a = input(\"Enter your name? \")"
   ]
  },
  {
   "cell_type": "code",
   "execution_count": null,
   "id": "3139cb83",
   "metadata": {},
   "outputs": [],
   "source": [
    "type(a)"
   ]
  },
  {
   "cell_type": "code",
   "execution_count": null,
   "id": "5a4422d8",
   "metadata": {},
   "outputs": [],
   "source": [
    "b = (input(\"Enter your age? \"))\n",
    "print(b)"
   ]
  },
  {
   "cell_type": "code",
   "execution_count": null,
   "id": "c668bf42",
   "metadata": {},
   "outputs": [],
   "source": [
    "type(b)"
   ]
  },
  {
   "cell_type": "code",
   "execution_count": null,
   "id": "e0dfde26",
   "metadata": {},
   "outputs": [],
   "source": [
    "b*2"
   ]
  },
  {
   "cell_type": "code",
   "execution_count": null,
   "id": "17b5e218",
   "metadata": {},
   "outputs": [],
   "source": [
    "b = int(input(\"Enter your age? \"))\n",
    "print(b*2)"
   ]
  },
  {
   "cell_type": "code",
   "execution_count": null,
   "id": "074438d7",
   "metadata": {},
   "outputs": [],
   "source": [
    "a = input(\"Enter your sequence\")"
   ]
  },
  {
   "cell_type": "code",
   "execution_count": null,
   "id": "4b36c908",
   "metadata": {},
   "outputs": [],
   "source": [
    "a"
   ]
  },
  {
   "cell_type": "code",
   "execution_count": null,
   "id": "2952d039",
   "metadata": {},
   "outputs": [],
   "source": [
    "type(a)"
   ]
  },
  {
   "cell_type": "code",
   "execution_count": null,
   "id": "a083ce51",
   "metadata": {},
   "outputs": [],
   "source": [
    "a.split( )"
   ]
  },
  {
   "cell_type": "markdown",
   "id": "9df5d681",
   "metadata": {},
   "source": [
    "## Tuple"
   ]
  },
  {
   "cell_type": "code",
   "execution_count": null,
   "id": "ebc80cc6",
   "metadata": {},
   "outputs": [],
   "source": [
    "tuple1 = ('abcd',786,2.23,'john',70.2)\n",
    "tuple2 = (123,'john')"
   ]
  },
  {
   "cell_type": "code",
   "execution_count": null,
   "id": "ac366ed2",
   "metadata": {},
   "outputs": [],
   "source": [
    "print(tuple1)"
   ]
  },
  {
   "cell_type": "code",
   "execution_count": null,
   "id": "a98eb5b5",
   "metadata": {},
   "outputs": [],
   "source": [
    "print(tuple2)"
   ]
  },
  {
   "cell_type": "code",
   "execution_count": null,
   "id": "e5b03a6c",
   "metadata": {},
   "outputs": [],
   "source": [
    "print(tuple1+tuple2)"
   ]
  },
  {
   "cell_type": "code",
   "execution_count": null,
   "id": "9573aa33",
   "metadata": {},
   "outputs": [],
   "source": [
    "tuple1[0]"
   ]
  },
  {
   "cell_type": "code",
   "execution_count": null,
   "id": "54aaa8e3",
   "metadata": {},
   "outputs": [],
   "source": [
    "tuple[0]=\"Hi\""
   ]
  },
  {
   "cell_type": "code",
   "execution_count": null,
   "id": "4027dbb8",
   "metadata": {},
   "outputs": [],
   "source": [
    "print(tuple1*4,end=\"\")"
   ]
  },
  {
   "cell_type": "markdown",
   "id": "2c17fa45",
   "metadata": {},
   "source": [
    "## Dictionary  {key:value}"
   ]
  },
  {
   "cell_type": "code",
   "execution_count": null,
   "id": "65e3677e",
   "metadata": {},
   "outputs": [],
   "source": [
    "dict1 = {}"
   ]
  },
  {
   "cell_type": "code",
   "execution_count": null,
   "id": "c49b8a6a",
   "metadata": {},
   "outputs": [],
   "source": [
    "type(dict1)"
   ]
  },
  {
   "cell_type": "code",
   "execution_count": null,
   "id": "8920ccd6",
   "metadata": {},
   "outputs": [],
   "source": [
    "dict1['one'] = \"This is Python\"\n",
    "dict1[2] = \"This is Java\"\n",
    "dict1"
   ]
  },
  {
   "cell_type": "code",
   "execution_count": null,
   "id": "011bbd28",
   "metadata": {},
   "outputs": [],
   "source": [
    "dict1[2]"
   ]
  },
  {
   "cell_type": "code",
   "execution_count": null,
   "id": "0a988966",
   "metadata": {},
   "outputs": [],
   "source": [
    "dict1[3]"
   ]
  },
  {
   "cell_type": "code",
   "execution_count": null,
   "id": "4b8bbb31",
   "metadata": {},
   "outputs": [],
   "source": [
    "dict2 = {'name':'Akshay','id':1234,'dept':'technical'}\n",
    "dict2"
   ]
  },
  {
   "cell_type": "code",
   "execution_count": null,
   "id": "8a46af42",
   "metadata": {},
   "outputs": [],
   "source": [
    "dict2['name']"
   ]
  },
  {
   "cell_type": "code",
   "execution_count": null,
   "id": "91b6cdaf",
   "metadata": {},
   "outputs": [],
   "source": [
    "dict2['id']"
   ]
  },
  {
   "cell_type": "code",
   "execution_count": null,
   "id": "f5e80238",
   "metadata": {},
   "outputs": [],
   "source": [
    "print(dict2.keys())"
   ]
  },
  {
   "cell_type": "code",
   "execution_count": null,
   "id": "b6a7885c",
   "metadata": {},
   "outputs": [],
   "source": [
    "dict2.values()"
   ]
  },
  {
   "cell_type": "markdown",
   "id": "e21151f9",
   "metadata": {},
   "source": [
    "## Loops"
   ]
  },
  {
   "cell_type": "markdown",
   "id": "25590bcc",
   "metadata": {},
   "source": [
    "### While loop"
   ]
  },
  {
   "cell_type": "code",
   "execution_count": null,
   "id": "a0e3dbb0",
   "metadata": {},
   "outputs": [],
   "source": [
    "count = 0\n",
    "while(count<10):\n",
    "    print(count)\n",
    "    count=count+1"
   ]
  },
  {
   "cell_type": "markdown",
   "id": "b56ee61b",
   "metadata": {},
   "source": [
    "### While loop with else"
   ]
  },
  {
   "cell_type": "code",
   "execution_count": null,
   "id": "5f67403a",
   "metadata": {},
   "outputs": [],
   "source": [
    "count = 0\n",
    "while(count < 5):\n",
    "    print(count,\"is less than 5\")\n",
    "    count=count+1\n",
    "else:\n",
    "    print(count,\"is not less than 5\")"
   ]
  },
  {
   "cell_type": "markdown",
   "id": "eec31481",
   "metadata": {},
   "source": [
    "### For Loop"
   ]
  },
  {
   "cell_type": "code",
   "execution_count": null,
   "id": "12a2cea4",
   "metadata": {},
   "outputs": [],
   "source": [
    "a = [1,2,34,56,78]\n",
    "for i in a:\n",
    "    print(i)"
   ]
  },
  {
   "cell_type": "code",
   "execution_count": null,
   "id": "7bf1a391",
   "metadata": {},
   "outputs": [],
   "source": [
    "name = input(\"Enter your name? \")"
   ]
  },
  {
   "cell_type": "code",
   "execution_count": null,
   "id": "98adddc7",
   "metadata": {},
   "outputs": [],
   "source": [
    "name[0]"
   ]
  },
  {
   "cell_type": "code",
   "execution_count": null,
   "id": "f00a9ee3",
   "metadata": {},
   "outputs": [],
   "source": [
    "total = 0\n",
    "for i in name:\n",
    "    print(i)\n",
    "    total = total+1\n",
    "\n",
    "print(total)"
   ]
  },
  {
   "cell_type": "markdown",
   "id": "9761141b",
   "metadata": {},
   "source": [
    "# Numpy"
   ]
  },
  {
   "cell_type": "code",
   "execution_count": null,
   "id": "40b3e58d",
   "metadata": {},
   "outputs": [],
   "source": [
    "a=[2,3]"
   ]
  },
  {
   "cell_type": "code",
   "execution_count": null,
   "id": "f3ccd5e2",
   "metadata": {},
   "outputs": [],
   "source": [
    "a*2"
   ]
  },
  {
   "cell_type": "code",
   "execution_count": null,
   "id": "2469d155",
   "metadata": {},
   "outputs": [],
   "source": [
    "import numpy "
   ]
  },
  {
   "cell_type": "code",
   "execution_count": null,
   "id": "0883c3b1",
   "metadata": {},
   "outputs": [],
   "source": [
    "import numpy as np"
   ]
  },
  {
   "cell_type": "code",
   "execution_count": null,
   "id": "cbc3510c",
   "metadata": {},
   "outputs": [],
   "source": [
    "!pip install numpy"
   ]
  },
  {
   "cell_type": "code",
   "execution_count": null,
   "id": "05461af0",
   "metadata": {},
   "outputs": [],
   "source": [
    "a_n=np.array(a)"
   ]
  },
  {
   "cell_type": "code",
   "execution_count": null,
   "id": "285e4de4",
   "metadata": {},
   "outputs": [],
   "source": [
    "a_n"
   ]
  },
  {
   "cell_type": "code",
   "execution_count": null,
   "id": "1963a3f2",
   "metadata": {},
   "outputs": [],
   "source": [
    "a_n*2"
   ]
  },
  {
   "cell_type": "code",
   "execution_count": null,
   "id": "cd6298ad",
   "metadata": {},
   "outputs": [],
   "source": [
    "type(a_n)"
   ]
  },
  {
   "cell_type": "code",
   "execution_count": null,
   "id": "78dfd069",
   "metadata": {},
   "outputs": [],
   "source": [
    "marks=[54,48,69,72,39,92,87,45,23,80]\n",
    "marks=np.array(marks)"
   ]
  },
  {
   "cell_type": "code",
   "execution_count": null,
   "id": "af92dc17",
   "metadata": {},
   "outputs": [],
   "source": [
    "np.amin(marks)"
   ]
  },
  {
   "cell_type": "code",
   "execution_count": null,
   "id": "745b993b",
   "metadata": {},
   "outputs": [],
   "source": [
    "np.amax(marks)"
   ]
  },
  {
   "cell_type": "code",
   "execution_count": null,
   "id": "21f52497",
   "metadata": {},
   "outputs": [],
   "source": [
    "np.min(marks)"
   ]
  },
  {
   "cell_type": "code",
   "execution_count": null,
   "id": "a13b2769",
   "metadata": {},
   "outputs": [],
   "source": [
    "np.max(marks)"
   ]
  },
  {
   "cell_type": "code",
   "execution_count": null,
   "id": "d9c610f7",
   "metadata": {},
   "outputs": [],
   "source": [
    "np.mean(marks)"
   ]
  },
  {
   "cell_type": "code",
   "execution_count": null,
   "id": "de116643",
   "metadata": {},
   "outputs": [],
   "source": [
    "np.median(marks)"
   ]
  },
  {
   "cell_type": "code",
   "execution_count": null,
   "id": "87fb65b1",
   "metadata": {},
   "outputs": [],
   "source": [
    "np.ptp(marks)"
   ]
  },
  {
   "cell_type": "code",
   "execution_count": null,
   "id": "1da985b9",
   "metadata": {},
   "outputs": [],
   "source": [
    "np.std(marks)"
   ]
  },
  {
   "cell_type": "code",
   "execution_count": null,
   "id": "f0fa65e6",
   "metadata": {},
   "outputs": [],
   "source": [
    "np.var(marks)"
   ]
  },
  {
   "cell_type": "code",
   "execution_count": null,
   "id": "c6db20fd",
   "metadata": {},
   "outputs": [],
   "source": [
    "np.average(marks)"
   ]
  },
  {
   "cell_type": "code",
   "execution_count": null,
   "id": "9753304e",
   "metadata": {},
   "outputs": [],
   "source": [
    "np.percentile(marks,10)"
   ]
  },
  {
   "cell_type": "code",
   "execution_count": null,
   "id": "794f0ac9",
   "metadata": {},
   "outputs": [],
   "source": [
    "x = [34,45,67,78]\n",
    "x=np.array(x)"
   ]
  },
  {
   "cell_type": "code",
   "execution_count": null,
   "id": "62b0a225",
   "metadata": {},
   "outputs": [],
   "source": [
    "np.mean(x)"
   ]
  },
  {
   "cell_type": "code",
   "execution_count": null,
   "id": "18976d84",
   "metadata": {},
   "outputs": [],
   "source": [
    "np.std(x)"
   ]
  },
  {
   "cell_type": "code",
   "execution_count": null,
   "id": "732243f1",
   "metadata": {},
   "outputs": [],
   "source": [
    "ss=np.mean((x-np.mean(x))**2)\n",
    "ss"
   ]
  },
  {
   "cell_type": "code",
   "execution_count": null,
   "id": "dd842e06",
   "metadata": {},
   "outputs": [],
   "source": [
    "np.sqrt(ss)"
   ]
  },
  {
   "cell_type": "code",
   "execution_count": 1,
   "id": "9bc0e508",
   "metadata": {},
   "outputs": [],
   "source": [
    "from numpy import random"
   ]
  },
  {
   "cell_type": "code",
   "execution_count": 2,
   "id": "aae77a40",
   "metadata": {},
   "outputs": [
    {
     "data": {
      "text/plain": [
       "0.726424320012187"
      ]
     },
     "execution_count": 2,
     "metadata": {},
     "output_type": "execute_result"
    }
   ],
   "source": [
    "random.rand()"
   ]
  },
  {
   "cell_type": "code",
   "execution_count": 7,
   "id": "b8d2864f",
   "metadata": {},
   "outputs": [
    {
     "name": "stdout",
     "output_type": "stream",
     "text": [
      "0.15416284237967237\n",
      "0.7400496965154048\n",
      "0.26331501518513467\n",
      "0.5337393933802977\n",
      "0.014574962485419674\n",
      "0.918747008099885\n",
      "0.9007148541170122\n",
      "0.03342142762634459\n",
      "0.9569493362751168\n",
      "0.13720932135607644\n"
     ]
    }
   ],
   "source": [
    "random.seed(12)\n",
    "for i in range(10):\n",
    "    print(random.rand())"
   ]
  },
  {
   "cell_type": "code",
   "execution_count": 4,
   "id": "628d2baf",
   "metadata": {},
   "outputs": [],
   "source": [
    "x=2.75"
   ]
  },
  {
   "cell_type": "code",
   "execution_count": 5,
   "id": "22b4590f",
   "metadata": {},
   "outputs": [
    {
     "data": {
      "text/plain": [
       "-5.875"
      ]
     },
     "execution_count": 5,
     "metadata": {},
     "output_type": "execute_result"
    }
   ],
   "source": [
    "x=1+(1-3.5)*x\n",
    "x"
   ]
  },
  {
   "cell_type": "code",
   "execution_count": 6,
   "id": "0d826c9f",
   "metadata": {},
   "outputs": [
    {
     "name": "stdout",
     "output_type": "stream",
     "text": [
      "-5.875\n",
      "15.6875\n",
      "-38.21875\n",
      "96.546875\n",
      "-240.3671875\n",
      "601.91796875\n",
      "-1503.794921875\n",
      "3760.4873046875\n",
      "-9400.21826171875\n",
      "23501.545654296875\n"
     ]
    }
   ],
   "source": [
    "x=2.75   ##seed value\n",
    "for i in range(10):\n",
    "    x=1+(1-3.5)*x\n",
    "    print(x)"
   ]
  },
  {
   "cell_type": "markdown",
   "id": "00255bce",
   "metadata": {},
   "source": [
    "## Inter Quartile Range"
   ]
  },
  {
   "cell_type": "code",
   "execution_count": null,
   "id": "efe96d8f",
   "metadata": {},
   "outputs": [],
   "source": [
    " np.percentile"
   ]
  },
  {
   "cell_type": "markdown",
   "id": "f8b07ca7",
   "metadata": {},
   "source": [
    "## Numpy Arrays"
   ]
  },
  {
   "cell_type": "code",
   "execution_count": 11,
   "id": "29de6658",
   "metadata": {},
   "outputs": [],
   "source": [
    "a=[1,2]"
   ]
  },
  {
   "cell_type": "code",
   "execution_count": 13,
   "id": "4418a68f",
   "metadata": {},
   "outputs": [
    {
     "data": {
      "text/plain": [
       "[[3, 4], [5, 6]]"
      ]
     },
     "execution_count": 13,
     "metadata": {},
     "output_type": "execute_result"
    }
   ],
   "source": [
    "a=[[3,4],[5,6]]\n",
    "a"
   ]
  },
  {
   "cell_type": "code",
   "execution_count": 14,
   "id": "94917967",
   "metadata": {},
   "outputs": [
    {
     "data": {
      "text/plain": [
       "3"
      ]
     },
     "execution_count": 14,
     "metadata": {},
     "output_type": "execute_result"
    }
   ],
   "source": [
    "a[0][0]"
   ]
  },
  {
   "cell_type": "code",
   "execution_count": 15,
   "id": "aca36a48",
   "metadata": {},
   "outputs": [
    {
     "data": {
      "text/plain": [
       "4"
      ]
     },
     "execution_count": 15,
     "metadata": {},
     "output_type": "execute_result"
    }
   ],
   "source": [
    "a[0][1]"
   ]
  },
  {
   "cell_type": "code",
   "execution_count": 16,
   "id": "36616d47",
   "metadata": {},
   "outputs": [
    {
     "data": {
      "text/plain": [
       "5"
      ]
     },
     "execution_count": 16,
     "metadata": {},
     "output_type": "execute_result"
    }
   ],
   "source": [
    "a[1][0]"
   ]
  },
  {
   "cell_type": "code",
   "execution_count": 17,
   "id": "0b25975e",
   "metadata": {},
   "outputs": [
    {
     "data": {
      "text/plain": [
       "6"
      ]
     },
     "execution_count": 17,
     "metadata": {},
     "output_type": "execute_result"
    }
   ],
   "source": [
    "a[1][1]"
   ]
  },
  {
   "cell_type": "code",
   "execution_count": 19,
   "id": "8466f374",
   "metadata": {},
   "outputs": [
    {
     "data": {
      "text/plain": [
       "([5, 6], [2])"
      ]
     },
     "execution_count": 19,
     "metadata": {},
     "output_type": "execute_result"
    }
   ],
   "source": [
    "a[1],[2]"
   ]
  },
  {
   "cell_type": "code",
   "execution_count": 22,
   "id": "1a5fbd1e",
   "metadata": {},
   "outputs": [],
   "source": [
    "import numpy as np"
   ]
  },
  {
   "cell_type": "code",
   "execution_count": 24,
   "id": "fd831f4c",
   "metadata": {},
   "outputs": [
    {
     "data": {
      "text/plain": [
       "array([[3, 4],\n",
       "       [5, 6]])"
      ]
     },
     "execution_count": 24,
     "metadata": {},
     "output_type": "execute_result"
    }
   ],
   "source": [
    "a_n=np.array(a)\n",
    "a_n"
   ]
  },
  {
   "cell_type": "code",
   "execution_count": 25,
   "id": "f0bb56bc",
   "metadata": {},
   "outputs": [
    {
     "data": {
      "text/plain": [
       "array([3, 4])"
      ]
     },
     "execution_count": 25,
     "metadata": {},
     "output_type": "execute_result"
    }
   ],
   "source": [
    "a_n[0,:]"
   ]
  },
  {
   "cell_type": "code",
   "execution_count": 26,
   "id": "b0054d62",
   "metadata": {},
   "outputs": [
    {
     "data": {
      "text/plain": [
       "array([5, 6])"
      ]
     },
     "execution_count": 26,
     "metadata": {},
     "output_type": "execute_result"
    }
   ],
   "source": [
    "a_n[1,:]"
   ]
  },
  {
   "cell_type": "code",
   "execution_count": 27,
   "id": "9d878145",
   "metadata": {},
   "outputs": [
    {
     "data": {
      "text/plain": [
       "dtype('int32')"
      ]
     },
     "execution_count": 27,
     "metadata": {},
     "output_type": "execute_result"
    }
   ],
   "source": [
    "a_n.dtype"
   ]
  },
  {
   "cell_type": "code",
   "execution_count": 29,
   "id": "5dca1164",
   "metadata": {},
   "outputs": [
    {
     "data": {
      "text/plain": [
       "numpy.ndarray"
      ]
     },
     "execution_count": 29,
     "metadata": {},
     "output_type": "execute_result"
    }
   ],
   "source": [
    "type(a_n)"
   ]
  },
  {
   "cell_type": "code",
   "execution_count": 32,
   "id": "20acbdd0",
   "metadata": {},
   "outputs": [
    {
     "data": {
      "text/plain": [
       "(8, 4)"
      ]
     },
     "execution_count": 32,
     "metadata": {},
     "output_type": "execute_result"
    }
   ],
   "source": [
    "a_n.strides"
   ]
  },
  {
   "cell_type": "code",
   "execution_count": 34,
   "id": "a15248e9",
   "metadata": {},
   "outputs": [
    {
     "data": {
      "text/plain": [
       "array([[4, 5],\n",
       "       [6, 7]])"
      ]
     },
     "execution_count": 34,
     "metadata": {},
     "output_type": "execute_result"
    }
   ],
   "source": [
    "a_n + 1"
   ]
  },
  {
   "cell_type": "code",
   "execution_count": 35,
   "id": "763dd419",
   "metadata": {},
   "outputs": [
    {
     "data": {
      "text/plain": [
       "(2, 2)"
      ]
     },
     "execution_count": 35,
     "metadata": {},
     "output_type": "execute_result"
    }
   ],
   "source": [
    "a_n.shape"
   ]
  },
  {
   "cell_type": "code",
   "execution_count": 37,
   "id": "9ac51a71",
   "metadata": {},
   "outputs": [
    {
     "data": {
      "text/plain": [
       "array([1])"
      ]
     },
     "execution_count": 37,
     "metadata": {},
     "output_type": "execute_result"
    }
   ],
   "source": [
    "b_n = np.array([1])\n",
    "b_n"
   ]
  },
  {
   "cell_type": "code",
   "execution_count": 38,
   "id": "df02369b",
   "metadata": {},
   "outputs": [
    {
     "data": {
      "text/plain": [
       "(1,)"
      ]
     },
     "execution_count": 38,
     "metadata": {},
     "output_type": "execute_result"
    }
   ],
   "source": [
    "b_n.shape"
   ]
  },
  {
   "cell_type": "markdown",
   "id": "df7edd25",
   "metadata": {},
   "source": [
    "# <center>Case Study</center>"
   ]
  },
  {
   "cell_type": "code",
   "execution_count": 58,
   "id": "ff093c34",
   "metadata": {},
   "outputs": [],
   "source": [
    "import numpy as np"
   ]
  },
  {
   "cell_type": "code",
   "execution_count": 59,
   "id": "af3c29d1",
   "metadata": {},
   "outputs": [],
   "source": [
    "a = np.loadtxt(\"https://raw.githubusercontent.com/goradbj/MachineLearning/main/cric.tsv\",skiprows=1)"
   ]
  },
  {
   "cell_type": "code",
   "execution_count": 60,
   "id": "e45996a1",
   "metadata": {},
   "outputs": [
    {
     "data": {
      "text/plain": [
       "array([[  0., 100.,  78., 342.],\n",
       "       [  1.,  11.,  62., 191.],\n",
       "       [  2.,   8.,  85., 252.],\n",
       "       [  3.,  71.,  24., 307.],\n",
       "       [  4., 104.,  17., 229.],\n",
       "       [  5.,  18., 104., 246.],\n",
       "       [  6.,   8.,  76., 226.],\n",
       "       [  7.,  86.,  74., 288.],\n",
       "       [  8.,  12.,  60., 216.],\n",
       "       [  9.,  25.,  90., 304.],\n",
       "       [ 10.,  56.,   6., 272.],\n",
       "       [ 11.,  88.,  69., 302.],\n",
       "       [ 12., 147.,  65., 312.],\n",
       "       [ 13., 121., 146., 370.],\n",
       "       [ 15.,  99., 110., 362.]])"
      ]
     },
     "execution_count": 60,
     "metadata": {},
     "output_type": "execute_result"
    }
   ],
   "source": [
    "a"
   ]
  },
  {
   "cell_type": "code",
   "execution_count": 61,
   "id": "e24fb063",
   "metadata": {},
   "outputs": [],
   "source": [
    "sachin_runs = a[:,1]"
   ]
  },
  {
   "cell_type": "code",
   "execution_count": 62,
   "id": "93923fcd",
   "metadata": {},
   "outputs": [
    {
     "data": {
      "text/plain": [
       "array([100.,  11.,   8.,  71., 104.,  18.,   8.,  86.,  12.,  25.,  56.,\n",
       "        88., 147., 121.,  99.])"
      ]
     },
     "execution_count": 62,
     "metadata": {},
     "output_type": "execute_result"
    }
   ],
   "source": [
    "sachin_runs"
   ]
  },
  {
   "cell_type": "code",
   "execution_count": 63,
   "id": "7332c239",
   "metadata": {},
   "outputs": [
    {
     "data": {
      "text/plain": [
       "63.6"
      ]
     },
     "execution_count": 63,
     "metadata": {},
     "output_type": "execute_result"
    }
   ],
   "source": [
    "np.mean(sachin_runs)"
   ]
  },
  {
   "cell_type": "code",
   "execution_count": 64,
   "id": "c0b86d82",
   "metadata": {},
   "outputs": [],
   "source": [
    "dravid_runs = a[:,2]"
   ]
  },
  {
   "cell_type": "code",
   "execution_count": 65,
   "id": "830d0cee",
   "metadata": {},
   "outputs": [
    {
     "data": {
      "text/plain": [
       "array([ 78.,  62.,  85.,  24.,  17., 104.,  76.,  74.,  60.,  90.,   6.,\n",
       "        69.,  65., 146., 110.])"
      ]
     },
     "execution_count": 65,
     "metadata": {},
     "output_type": "execute_result"
    }
   ],
   "source": [
    "dravid_runs"
   ]
  },
  {
   "cell_type": "code",
   "execution_count": 66,
   "id": "fabde551",
   "metadata": {},
   "outputs": [
    {
     "data": {
      "text/plain": [
       "71.06666666666666"
      ]
     },
     "execution_count": 66,
     "metadata": {},
     "output_type": "execute_result"
    }
   ],
   "source": [
    "np.mean(dravid_runs)"
   ]
  },
  {
   "cell_type": "code",
   "execution_count": 67,
   "id": "9bf367c0",
   "metadata": {},
   "outputs": [
    {
     "data": {
      "text/plain": [
       "array([342., 191., 252., 307., 229., 246., 226., 288., 216., 304., 272.,\n",
       "       302., 312., 370., 362.])"
      ]
     },
     "execution_count": 67,
     "metadata": {},
     "output_type": "execute_result"
    }
   ],
   "source": [
    "India_runs = a[:,3]\n",
    "India_runs"
   ]
  },
  {
   "cell_type": "code",
   "execution_count": 68,
   "id": "91324386",
   "metadata": {},
   "outputs": [
    {
     "data": {
      "text/plain": [
       "281.26666666666665"
      ]
     },
     "execution_count": 68,
     "metadata": {},
     "output_type": "execute_result"
    }
   ],
   "source": [
    "np.mean(India_runs)"
   ]
  },
  {
   "cell_type": "markdown",
   "id": "a154f206",
   "metadata": {},
   "source": [
    "#### Man of the match"
   ]
  },
  {
   "cell_type": "code",
   "execution_count": 69,
   "id": "4c2b5fb9",
   "metadata": {},
   "outputs": [
    {
     "data": {
      "text/plain": [
       "array([[1.        , 0.70460106],\n",
       "       [0.70460106, 1.        ]])"
      ]
     },
     "execution_count": 69,
     "metadata": {},
     "output_type": "execute_result"
    }
   ],
   "source": [
    "np.corrcoef(sachin_runs,India_runs)"
   ]
  },
  {
   "cell_type": "code",
   "execution_count": 70,
   "id": "469c43d0",
   "metadata": {},
   "outputs": [
    {
     "data": {
      "text/plain": [
       "array([[1.        , 0.44853003],\n",
       "       [0.44853003, 1.        ]])"
      ]
     },
     "execution_count": 70,
     "metadata": {},
     "output_type": "execute_result"
    }
   ],
   "source": [
    "np.corrcoef(dravid_runs,India_runs)"
   ]
  },
  {
   "cell_type": "markdown",
   "id": "1ff14fbb",
   "metadata": {},
   "source": [
    "#### Opening slot"
   ]
  },
  {
   "cell_type": "code",
   "execution_count": 71,
   "id": "461f80d6",
   "metadata": {},
   "outputs": [
    {
     "data": {
      "text/plain": [
       "array([[1.        , 0.04899219],\n",
       "       [0.04899219, 1.        ]])"
      ]
     },
     "execution_count": 71,
     "metadata": {},
     "output_type": "execute_result"
    }
   ],
   "source": [
    "np.corrcoef(sachin_runs,dravid_runs)"
   ]
  },
  {
   "cell_type": "code",
   "execution_count": null,
   "id": "08ab0c34",
   "metadata": {},
   "outputs": [],
   "source": []
  }
 ],
 "metadata": {
  "kernelspec": {
   "display_name": "Python 3 (ipykernel)",
   "language": "python",
   "name": "python3"
  },
  "language_info": {
   "codemirror_mode": {
    "name": "ipython",
    "version": 3
   },
   "file_extension": ".py",
   "mimetype": "text/x-python",
   "name": "python",
   "nbconvert_exporter": "python",
   "pygments_lexer": "ipython3",
   "version": "3.9.12"
  }
 },
 "nbformat": 4,
 "nbformat_minor": 5
}
